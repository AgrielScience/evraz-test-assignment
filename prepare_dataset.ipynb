{
 "cells": [
  {
   "cell_type": "code",
   "execution_count": 1,
   "metadata": {},
   "outputs": [],
   "source": [
    "import os\n",
    "import numpy as np\n",
    "import pandas as pd\n",
    "\n",
    "from tqdm import tqdm\n",
    "pd.set_option('display.max_columns', None)\n",
    "pd.set_option('display.max_rows', 500)"
   ]
  },
  {
   "cell_type": "code",
   "execution_count": 2,
   "metadata": {},
   "outputs": [],
   "source": [
    "target = pd.read_csv('data/Ромбичность.csv', sep=';')\n",
    "steel = pd.read_csv('data/Марка стали.csv', sep=';')\n",
    "chemistry = pd.read_csv('data/Химия.csv', sep=';')\n",
    "chemistry['AnalysisDate'] = pd.to_datetime(chemistry.AnalysisDate)\n",
    "chemistry = chemistry.sort_values(by=['AnalysisDate'])"
   ]
  },
  {
   "cell_type": "code",
   "execution_count": 3,
   "metadata": {},
   "outputs": [],
   "source": [
    "df_chem = chemistry.copy()"
   ]
  },
  {
   "cell_type": "code",
   "execution_count": 4,
   "metadata": {},
   "outputs": [],
   "source": [
    "general_files = ['TundishWeight1', 'TundishWeight2', 'LadleSteelWgt', 'LadleTTE',\n",
    "'ArmCastPos1', 'ArmCastPos2', 'TundishTemp1','TundishTemp2', 'LiquidusTemp', 'TundishTempDelta1',\n",
    "'TundishTempDelta2', 'PercentMixSteel', 'BvoWaterTemp']"
   ]
  },
  {
   "cell_type": "code",
   "execution_count": 5,
   "metadata": {},
   "outputs": [
    {
     "name": "stderr",
     "output_type": "stream",
     "text": [
      "100%|██████████| 281/281 [00:36<00:00,  7.69it/s]\n"
     ]
    }
   ],
   "source": [
    "for item in tqdm(os.listdir('data')):\n",
    "    if item not in ['Химия.csv', 'Ромбичность.csv', 'Марка стали.csv', 'Data.zip']:\n",
    "        if any(file in item for file in general_files):\n",
    "            df_tmp = pd.read_csv(f'data/{item}', sep=';', \n",
    "                                 names=['AnalysisDate', item.partition('#')[2][:-4]], header=0)\n",
    "            df_tmp['AnalysisDate'] = pd.to_datetime(df_tmp.AnalysisDate, format='%d.%m.%Y %H:%M:%S')\n",
    "            df_chem = pd.merge_asof(df_chem, \n",
    "                                    df_tmp.sort_values(by=['AnalysisDate']), \n",
    "                                    on='AnalysisDate', \n",
    "                                    direction=\"nearest\")"
   ]
  },
  {
   "cell_type": "code",
   "execution_count": 6,
   "metadata": {},
   "outputs": [],
   "source": [
    "dataset = pd.merge(target, steel, how='left', on='Heat')\n",
    "dataset = pd.merge(dataset, df_chem, how='left', on='Heat')"
   ]
  },
  {
   "cell_type": "code",
   "execution_count": 7,
   "metadata": {},
   "outputs": [],
   "source": [
    "dataset['AnalysisDate'] = dataset['AnalysisDate'].fillna(pd.to_datetime('1900-01-01 00:00:00'))"
   ]
  },
  {
   "cell_type": "code",
   "execution_count": 8,
   "metadata": {},
   "outputs": [],
   "source": [
    "other_fields = ['StrStatus', 'StrOpenStreamCast', 'StrBilletNumber', 'StrEmergingLen', 'StrTotalCastingLength',\n",
    "'StrMouldLevel', 'StrMouldLevelDeviation', 'StrStopperPos', 'StrStopperPosFiltered', \n",
    "'StrStopperPosFilteredDeviation', 'StrManualFlushing', 'StrCastingSpeed', 'StrOscillatorStroke',\n",
    "'StrOscillatorFrequency', 'StrFriction', 'StrOilFlow', 'StrPowderFlow', 'StrMouldWaterFlow',\n",
    "'StrMouldWaterPress', 'StrMouldWaterTemp', 'StrMouldWaterDeltaT', 'StrL1WaterFlow',\n",
    "'StrL1WaterPressure', 'StrL2WaterFlow', 'StrL2WaterPressure', 'StrL3WaterFlow', 'StrL3WaterPressure',\n",
    "'StrL4WaterFlow', 'StrL4WaterPressure', 'StrL5WaterFlow', 'StrL5WaterPressure', 'StrPR1Press', 'StrPR2Press']"
   ]
  },
  {
   "cell_type": "code",
   "execution_count": 9,
   "metadata": {},
   "outputs": [
    {
     "data": {
      "text/plain": [
       "(38782, 46)"
      ]
     },
     "execution_count": 9,
     "metadata": {},
     "output_type": "execute_result"
    }
   ],
   "source": [
    "dataset.shape"
   ]
  },
  {
   "cell_type": "code",
   "execution_count": 10,
   "metadata": {
    "scrolled": true
   },
   "outputs": [
    {
     "name": "stderr",
     "output_type": "stream",
     "text": [
      " 15%|█▌        | 5/33 [01:35<13:02, 27.96s/it]/home/anton/anaconda3/lib/python3.7/site-packages/pandas/core/frame.py:7138: FutureWarning: Sorting because non-concatenation axis is not aligned. A future version\n",
      "of pandas will change to not sort by default.\n",
      "\n",
      "To accept the future behavior, pass 'sort=False'.\n",
      "\n",
      "To retain the current behavior and silence the warning, pass 'sort=True'.\n",
      "\n",
      "  sort=sort,\n",
      "100%|██████████| 33/33 [27:45<00:00, 50.48s/it]\n"
     ]
    }
   ],
   "source": [
    "for FIELD in tqdm(other_fields):\n",
    "    df_status = pd.DataFrame()\n",
    "    for item in os.listdir('data'):\n",
    "        if item not in ['Химия.csv', 'Ромбичность.csv', 'Марка стали.csv', 'Data.zip']:\n",
    "            if FIELD in item:\n",
    "                strand = item[-5:-4]\n",
    "                df_tmp = pd.read_csv(f'data/{item}', sep=';', \n",
    "                                     names=['AnalysisDate', item.partition('#')[2][:-6]], header=0)\n",
    "                df_tmp['AnalysisDate'] = pd.to_datetime(df_tmp.AnalysisDate, format='%d.%m.%Y %H:%M:%S')\n",
    "                df_tmp['Strand'] = int(strand)\n",
    "                df_status = df_status.append(df_tmp)\n",
    "\n",
    "    dataset = pd.merge_asof(dataset.sort_values(by=['AnalysisDate']), \n",
    "                            df_status.sort_values(by=['AnalysisDate']), \n",
    "                            on='AnalysisDate', \n",
    "                            by='Strand',\n",
    "                            direction=\"nearest\")"
   ]
  },
  {
   "cell_type": "code",
   "execution_count": 11,
   "metadata": {},
   "outputs": [
    {
     "data": {
      "text/plain": [
       "(38782, 83)"
      ]
     },
     "execution_count": 11,
     "metadata": {},
     "output_type": "execute_result"
    }
   ],
   "source": [
    "dataset.shape"
   ]
  },
  {
   "cell_type": "code",
   "execution_count": 12,
   "metadata": {},
   "outputs": [],
   "source": [
    "dataset['AnalysisDate'] = np.where(dataset.AnalysisDate == '1900-01-01', \n",
    "                                   np.nan, \n",
    "                                   dataset.AnalysisDate == '1900-01-01')"
   ]
  },
  {
   "cell_type": "code",
   "execution_count": 15,
   "metadata": {},
   "outputs": [],
   "source": [
    "col_list = list(dataset.iloc[:,16:].columns)"
   ]
  },
  {
   "cell_type": "code",
   "execution_count": 16,
   "metadata": {
    "scrolled": true
   },
   "outputs": [
    {
     "name": "stderr",
     "output_type": "stream",
     "text": [
      "100%|██████████| 67/67 [00:06<00:00,  9.72it/s]\n"
     ]
    }
   ],
   "source": [
    "for col in tqdm(col_list):\n",
    "    dataset[col] = dataset[col].str.replace('-','')\n",
    "    dataset[col] = dataset[col].str.replace('<','')\n",
    "    dataset[col] = dataset[col].str.replace('>','')\n",
    "    dataset[col] = dataset[col].str.replace(',','.')\n",
    "    dataset[col] = pd.to_numeric(dataset[col], errors='coerce')"
   ]
  },
  {
   "cell_type": "code",
   "execution_count": 17,
   "metadata": {},
   "outputs": [],
   "source": [
    "dataset['AnalysisDate'] = pd.to_datetime(dataset.AnalysisDate)"
   ]
  },
  {
   "cell_type": "code",
   "execution_count": null,
   "metadata": {},
   "outputs": [],
   "source": []
  },
  {
   "cell_type": "code",
   "execution_count": 18,
   "metadata": {},
   "outputs": [],
   "source": [
    "dataset.to_csv('dataset_v2.csv', index=False)"
   ]
  }
 ],
 "metadata": {
  "kernelspec": {
   "display_name": "Python 3",
   "language": "python",
   "name": "python3"
  },
  "language_info": {
   "codemirror_mode": {
    "name": "ipython",
    "version": 3
   },
   "file_extension": ".py",
   "mimetype": "text/x-python",
   "name": "python",
   "nbconvert_exporter": "python",
   "pygments_lexer": "ipython3",
   "version": "3.7.6"
  }
 },
 "nbformat": 4,
 "nbformat_minor": 4
}
